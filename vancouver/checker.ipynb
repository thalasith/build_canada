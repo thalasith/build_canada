{
 "cells": [
  {
   "cell_type": "markdown",
   "metadata": {},
   "source": [
    "# Data Checker\n",
    "\n",
    "This notebook is meant to do various checks to make sure that the data is accurate.\n",
    "\n",
    "The main two checkers are:\n",
    "\n",
    "1. Check to ensure that the amounts in the nested tree is accurate.\n",
    "\n",
    "2. Check that the total surplus (or deficit) adds up to what was presented in the financial statement.\n",
    "\n",
    "*Note - the total revenue and the total spend will not reflect the Consolidated Statement of Change in Net Financial Assets page 16 of the financial statement. This is due to more granular data in Note 15 on page 35 where I separated out the taxes collected by the city (revenue) against the taxes remitted to various Metro Vancouver Organizations (expenses) while page 16 only showed the total difference to be in the revenue.*"
   ]
  },
  {
   "cell_type": "markdown",
   "metadata": {},
   "source": [
    "## Check to ensure that the amounts in the nested tree is accurate.\n",
    "\n",
    "We define a function here to resursively sum up the \"amount\" field, no matter how deeply nested it is. This wil help us get the tallies for the revenue + the spend."
   ]
  },
  {
   "cell_type": "code",
   "execution_count": 9,
   "metadata": {},
   "outputs": [],
   "source": [
    "def sum_amounts(node):\n",
    "    if isinstance(node, dict):\n",
    "        if isinstance(node.get(\"children\"), list):\n",
    "            return sum(sum_amounts(c) for c in node[\"children\"])\n",
    "        return float(node.get(\"amount\", 0.0))\n",
    "    if isinstance(node, list):\n",
    "        return sum(sum_amounts(x) for x in node)\n",
    "    return 0.0"
   ]
  },
  {
   "cell_type": "markdown",
   "metadata": {},
   "source": [
    "Next, we import the data."
   ]
  },
  {
   "cell_type": "code",
   "execution_count": 10,
   "metadata": {},
   "outputs": [],
   "source": [
    "import json\n",
    "from pathlib import Path\n",
    "\n",
    "with open(Path(\"./final_data/sankey.json\"), \"r\", encoding=\"utf-8\") as f:\n",
    "    data = json.load(f)\n"
   ]
  },
  {
   "cell_type": "markdown",
   "metadata": {},
   "source": [
    "Now, we take the reported revenue and the reported spend in the JSON data and compare it against the sankey nested amounts."
   ]
  },
  {
   "cell_type": "code",
   "execution_count": 11,
   "metadata": {},
   "outputs": [
    {
     "name": "stdout",
     "output_type": "stream",
     "text": [
      "Sankey nested revenue total: 4130.1849999999995\n",
      "Sankey nested spending total: 3269.5509999999995\n",
      "Reported revenue: 4130.185\n",
      "Reported spending: 3269.551\n",
      "Revenue diff: -9.094947017729282e-13\n",
      "Spending diff: -4.547473508864641e-13\n"
     ]
    }
   ],
   "source": [
    "deep_revenue  = sum_amounts(data.get(\"revenue_data\", {}))\n",
    "deep_spending = sum_amounts(data.get(\"spending_data\", {}))\n",
    "\n",
    "print(\"Sankey nested revenue total:\", deep_revenue)\n",
    "print(\"Sankey nested spending total:\", deep_spending)\n",
    "print(\"Reported revenue:\", data.get(\"revenue\"))\n",
    "print(\"Reported spending:\", data.get(\"spending\"))\n",
    "print(\"Revenue diff:\", deep_revenue - data.get(\"revenue\", 0.0))\n",
    "print(\"Spending diff:\", deep_spending - data.get(\"spending\", 0.0))"
   ]
  },
  {
   "cell_type": "markdown",
   "metadata": {},
   "source": [
    "The revenue and the spending roughly checks out, and so it passes our test to ensure that the nested sums add up to the totals."
   ]
  },
  {
   "cell_type": "markdown",
   "metadata": {},
   "source": [
    "## Check that the total surplus (or deficit) adds up to what was presented in the financial statement.\n",
    "\n",
    "Per page 16 in the financial statement (in the raw data as a PDF), the City of Vancouver had a surplus of 860,634,000.\n",
    "\n",
    "We will confirm that our sankey data reflects this."
   ]
  },
  {
   "cell_type": "code",
   "execution_count": 8,
   "metadata": {},
   "outputs": [
    {
     "name": "stdout",
     "output_type": "stream",
     "text": [
      "Financial Statement Surplus:  860.634\n",
      "Sankey Statement Surplus:  860.6340000000005\n",
      "Checker:  0\n"
     ]
    }
   ],
   "source": [
    "\n",
    "\n",
    "# Note that City of Vancouver reports in '000, while the sankey data is in millions. We convert it to millions here.\n",
    "pdf_surplus = 860634/1000\n",
    "\n",
    "sankey_revenue = data.get(\"revenue\")\n",
    "\n",
    "sankey_spend = data.get(\"spending\")\n",
    "\n",
    "sankey_surplus = sankey_revenue - sankey_spend\n",
    "\n",
    "print(\"Financial Statement Surplus: \", pdf_surplus)\n",
    "print(\"Sankey Statement Surplus: \", sankey_surplus)\n",
    "print(\"Checker: \", round(pdf_surplus - sankey_surplus))"
   ]
  },
  {
   "cell_type": "markdown",
   "metadata": {},
   "source": [
    "Since the difference is relatively close to zero, we passed the sense check for #2."
   ]
  }
 ],
 "metadata": {
  "interpreter": {
   "hash": "42518a910d49e1bcbec57022f51c626a2b80126feae2f4ee4e7dd882ffabe5bf"
  },
  "kernelspec": {
   "display_name": "Python 3.7.4 64-bit ('base': conda)",
   "language": "python",
   "name": "python3"
  },
  "language_info": {
   "codemirror_mode": {
    "name": "ipython",
    "version": 3
   },
   "file_extension": ".py",
   "mimetype": "text/x-python",
   "name": "python",
   "nbconvert_exporter": "python",
   "pygments_lexer": "ipython3",
   "version": "3.7.4"
  },
  "orig_nbformat": 4
 },
 "nbformat": 4,
 "nbformat_minor": 2
}
